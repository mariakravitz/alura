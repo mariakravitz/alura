{
  "nbformat": 4,
  "nbformat_minor": 0,
  "metadata": {
    "colab": {
      "provenance": [],
      "authorship_tag": "ABX9TyNPLHPKt/RMXl+47ZzTGyJl",
      "include_colab_link": true
    },
    "kernelspec": {
      "name": "python3",
      "display_name": "Python 3"
    },
    "language_info": {
      "name": "python"
    }
  },
  "cells": [
    {
      "cell_type": "markdown",
      "metadata": {
        "id": "view-in-github",
        "colab_type": "text"
      },
      "source": [
        "<a href=\"https://colab.research.google.com/github/mariakravitz/alura/blob/main/astrologia.ipynb\" target=\"_parent\"><img src=\"https://colab.research.google.com/assets/colab-badge.svg\" alt=\"Open In Colab\"/></a>"
      ]
    },
    {
      "cell_type": "code",
      "source": [
        "#Importações e configurações iniciais\n",
        "!pip install -U -q google-generativeai\n",
        "from google.colab import userdata\n",
        "import numpy as np\n",
        "import pandas as pd\n",
        "import google.generativeai as genai\n",
        "\n",
        "api_key = userdata.get(\"chave_api\")\n",
        "genai.configure(api_key=api_key)\n",
        "\n",
        "for m in genai.list_models():\n",
        "  if 'embedContent' in m.supported_generation_methods:\n",
        "    print(m.name)\n"
      ],
      "metadata": {
        "id": "qapRAMwQJ-wm",
        "outputId": "05cff7ed-73dc-4ad7-c69d-07fefd1394cd",
        "colab": {
          "base_uri": "https://localhost:8080/",
          "height": 52
        }
      },
      "execution_count": 14,
      "outputs": [
        {
          "output_type": "stream",
          "name": "stdout",
          "text": [
            "models/embedding-001\n",
            "models/text-embedding-004\n"
          ]
        }
      ]
    },
    {
      "cell_type": "code",
      "source": [
        "#Lista de documentos a serem pesquisados\n",
        "DOCUMENT1 = {\n",
        "    \"signo\": \"Áries\",\n",
        "    \"dataInicio\": \"21 de março\",\n",
        "    \"dataTermino\": \"19 de abril\",\n",
        "    \"caracteristicaMarcante\": \"Aventureiros e Corajosos\"  }\n",
        "DOCUMENT2 = {\n",
        "    \"signo\": \"Touro\",\n",
        "    \"dataInicio\": \"20 de abril\",\n",
        "    \"dataTermino\": \"20 de maio\",\n",
        "    \"caracteristicaMarcante\": \"Estáveis e Leais\"\n",
        "  },\n",
        "DOCUMENT3 = {\n",
        "    \"signo\": \"Gêmeos\",\n",
        "    \"dataInicio\": \"21 de maio\",\n",
        "    \"dataTermino\": \"20 de junho\",\n",
        "    \"caracteristicaMarcante\": \"Comunicativos e Versáteis\"\n",
        "  }\n",
        "DOCUMENT4 = {\n",
        "    \"signo\": \"Câncer\",\n",
        "    \"dataInicio\": \"21 de junho\",\n",
        "    \"dataTermino\": \"22 de julho\",\n",
        "    \"caracteristicaMarcante\": \"Cuidadosos e Intuitivos\"\n",
        "  }\n",
        "DOCUMENT5 = {\n",
        "    \"signo\": \"Leão\",\n",
        "    \"dataInicio\": \"23 de julho\",\n",
        "    \"dataTermino\": \"22 de agosto\",\n",
        "    \"caracteristicaMarcante\": \"Criativos e Generosos\"\n",
        "  },\n",
        "DOCUMENT6 = {\n",
        "    \"signo\": \"Virgem\",\n",
        "    \"dataInicio\": \"23 de agosto\",\n",
        "    \"dataTermino\": \"22 de setembro\",\n",
        "    \"caracteristicaMarcante\": \"Analíticos e Perfeccionistas\"\n",
        "  }\n",
        "DOCUMENT7 = {\n",
        "    \"signo\": \"Libra\",\n",
        "    \"dataInicio\": \"23 de setembro\",\n",
        "    \"dataTermino\": \"22 de outubro\",\n",
        "    \"caracteristicaMarcante\": \"Diplomáticos e Justos\"\n",
        "  }\n",
        "DOCUMENT8 = {\n",
        "    \"signo\": \"Escorpião\",\n",
        "    \"dataInicio\": \"23 de outubro\",\n",
        "    \"dataTermino\": \"21 de novembro\",\n",
        "    \"caracteristicaMarcante\": \"Intensos e Apaixonados\"\n",
        "  }\n",
        "DOCUMENT9 = {\n",
        "    \"signo\": \"Sagitário\",\n",
        "    \"dataInicio\": \"22 de novembro\",\n",
        "    \"dataTermino\": \"21 de dezembro\",\n",
        "    \"caracteristicaMarcante\": \"Aventurosos e Otimistas\"\n",
        "  }\n",
        "DOCUMENT10 = {\n",
        "    \"signo\": \"Capricórnio\",\n",
        "    \"dataInicio\": \"22 de dezembro\",\n",
        "    \"dataTermino\": \"19 de janeiro\",\n",
        "    \"caracteristicaMarcante\": \"Ambiciosos e Disciplinados\"\n",
        "  }\n",
        "DOCUMENT11 = {\n",
        "    \"signo\": \"Aquário\",\n",
        "    \"dataInicio\": \"20 de janeiro\",\n",
        "    \"dataTermino\": \"18 de fevereiro\",\n",
        "    \"caracteristicaMarcante\": \"Independentes e Rebeldes\"\n",
        "  }\n",
        "DOCUMENT12 = {\n",
        "    \"signo\": \"Peixes\",\n",
        "    \"dataInicio\": \"19 de fevereiro\",\n",
        "    \"dataTermino\": \"20 de março\",\n",
        "    \"caracteristicaMarcante\": \"Sensíveis e Sonhadores\"\n",
        "  }\n",
        "documents = [DOCUMENT1, DOCUMENT2, DOCUMENT3, DOCUMENT4, DOCUMENT5, DOCUMENT6, DOCUMENT7, DOCUMENT8, DOCUMENT9,DOCUMENT10, DOCUMENT11, DOCUMENT12]\n",
        "\n"
      ],
      "metadata": {
        "id": "34-sdlyGK7iJ"
      },
      "execution_count": 15,
      "outputs": []
    },
    {
      "cell_type": "code",
      "source": [
        "model = \"models/embedding-001\"\n",
        "\n"
      ],
      "metadata": {
        "id": "4rEBz2q1QC2d"
      },
      "execution_count": 24,
      "outputs": []
    },
    {
      "cell_type": "code",
      "source": [
        "def gerar_e_buscar_consulta(consulta, base, model):\n",
        "  embedding_da_consulta = genai.embed_content(model=model,\n",
        "                                 content=consulta,\n",
        "                                 task_type=\"RETRIEVAL_QUERY\")[\"embedding\"]\n",
        "\n",
        "  produtos_escalares = np.dot(np.stack(df[\"Embeddings\"]), embedding_da_consulta)\n",
        "\n",
        "  indice = np.argmax(produtos_escalares)\n",
        "  return df.iloc[indice][\"CaracteristicaMarcante\"]"
      ],
      "metadata": {
        "id": "ztpJjBB5Ob81"
      },
      "execution_count": 29,
      "outputs": []
    },
    {
      "cell_type": "code",
      "source": [
        "\n",
        "chat = model.start_chat(history=[])\n",
        "\n",
        "prompt = input('Olá! Este é um sistema de horóscopo simplificado. Digite sua pergunta: ')\n",
        "\n",
        "while prompt != \"fim\":\n",
        "  response = chat.send_message(prompt)\n",
        "  print(\"Resposta:\", response.text, '\\n\\n')\n",
        "  prompt = input('Para encerrar, digite fim. Qual a sua pergunta? ')"
      ],
      "metadata": {
        "id": "IKAkCdPkcFoo",
        "outputId": "3ac69585-6d4d-4f7e-bd69-263d9260c105",
        "colab": {
          "base_uri": "https://localhost:8080/",
          "height": 211
        }
      },
      "execution_count": 30,
      "outputs": [
        {
          "output_type": "error",
          "ename": "AttributeError",
          "evalue": "'str' object has no attribute 'start_chat'",
          "traceback": [
            "\u001b[0;31m---------------------------------------------------------------------------\u001b[0m",
            "\u001b[0;31mAttributeError\u001b[0m                            Traceback (most recent call last)",
            "\u001b[0;32m<ipython-input-30-8a006aac9932>\u001b[0m in \u001b[0;36m<cell line: 1>\u001b[0;34m()\u001b[0m\n\u001b[0;32m----> 1\u001b[0;31m \u001b[0mchat\u001b[0m \u001b[0;34m=\u001b[0m \u001b[0mmodel\u001b[0m\u001b[0;34m.\u001b[0m\u001b[0mstart_chat\u001b[0m\u001b[0;34m(\u001b[0m\u001b[0mhistory\u001b[0m\u001b[0;34m=\u001b[0m\u001b[0;34m[\u001b[0m\u001b[0;34m]\u001b[0m\u001b[0;34m)\u001b[0m\u001b[0;34m\u001b[0m\u001b[0;34m\u001b[0m\u001b[0m\n\u001b[0m\u001b[1;32m      2\u001b[0m \u001b[0;34m\u001b[0m\u001b[0m\n\u001b[1;32m      3\u001b[0m \u001b[0mprompt\u001b[0m \u001b[0;34m=\u001b[0m \u001b[0minput\u001b[0m\u001b[0;34m(\u001b[0m\u001b[0;34m'Olá! Este é um sistema de horóscopo simplificado. Digite sua pergunta: '\u001b[0m\u001b[0;34m)\u001b[0m\u001b[0;34m\u001b[0m\u001b[0;34m\u001b[0m\u001b[0m\n\u001b[1;32m      4\u001b[0m \u001b[0;34m\u001b[0m\u001b[0m\n\u001b[1;32m      5\u001b[0m \u001b[0;32mwhile\u001b[0m \u001b[0mprompt\u001b[0m \u001b[0;34m!=\u001b[0m \u001b[0;34m\"fim\"\u001b[0m\u001b[0;34m:\u001b[0m\u001b[0;34m\u001b[0m\u001b[0;34m\u001b[0m\u001b[0m\n",
            "\u001b[0;31mAttributeError\u001b[0m: 'str' object has no attribute 'start_chat'"
          ]
        }
      ]
    }
  ]
}